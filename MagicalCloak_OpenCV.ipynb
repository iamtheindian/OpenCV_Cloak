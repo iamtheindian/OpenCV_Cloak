{
 "cells": [
  {
   "cell_type": "code",
   "execution_count": 8,
   "metadata": {},
   "outputs": [],
   "source": [
    "#_Importing Important Libraries\n",
    "import cv2\n",
    "import time\n",
    "import numpy as np"
   ]
  },
  {
   "cell_type": "code",
   "execution_count": 9,
   "metadata": {},
   "outputs": [
    {
     "name": "stdout",
     "output_type": "stream",
     "text": [
      "4.2.0\n"
     ]
    }
   ],
   "source": [
    "print(cv2.__version__)"
   ]
  },
  {
   "cell_type": "code",
   "execution_count": 10,
   "metadata": {},
   "outputs": [],
   "source": [
    "#IF you would like to save the Video recorded by webcam\n",
    "fourcc= cv2.VideoWriter_fourcc(*'XVID')\n",
    "vout = cv2.VideoWriter('video.avi',fourcc,20.0,(640,480)) "
   ]
  },
  {
   "cell_type": "code",
   "execution_count": 11,
   "metadata": {},
   "outputs": [],
   "source": [
    "#Capturing Video (frames)\n",
    "cap= cv2.VideoCapture(0)\n",
    "#Waiting for Webcam to work properly\n",
    "time.sleep(4)"
   ]
  },
  {
   "cell_type": "code",
   "execution_count": 12,
   "metadata": {},
   "outputs": [],
   "source": [
    "count=0\n",
    "backgroundimg=0\n",
    "#Capturing  Sample Background  Images\n",
    "for img in range(60):\n",
    "    _ , backgroundimg = cap.read()\n",
    "#print(backgroundimg)\n",
    "backgroundimg=np.flip(backgroundimg, axis=1)"
   ]
  },
  {
   "cell_type": "code",
   "execution_count": 13,
   "metadata": {},
   "outputs": [
    {
     "name": "stdout",
     "output_type": "stream",
     "text": [
      "593 Frames Captured\n"
     ]
    }
   ],
   "source": [
    "while( cap.isOpened() ):\n",
    "    status , testimg = cap.read()\n",
    "    if not status:\n",
    "        print(\"Some error occured\")\n",
    "        break\n",
    "    count+=1\n",
    "    img = np.flip(testimg ,axis = 1)\n",
    "    \n",
    "    #Converting Colour from RGB to HSV\n",
    "    hsv = cv2.cvtColor(img, cv2.COLOR_BGR2HSV)\n",
    "    \n",
    "    #Now Selecting the mask for Cloth (means selecting lower and upper mask for red colour)\n",
    "    #Lower 10% Red mask\n",
    "    lower_red = np.array([0,120,70])\n",
    "    upper_red = np.array([10,255,255])\n",
    "    \n",
    "    mask1 = cv2.inRange(hsv, lower_red, upper_red)\n",
    "    \n",
    "    #Upper 10% Red mask\n",
    "    lower_red = np.array([170,120,70])\n",
    "    upper_red = np.array([180,255,255])\n",
    "    \n",
    "    mask2 = cv2.inRange(hsv, lower_red, upper_red)\n",
    "    \n",
    "    #For Getting Mask Value from both. Doing 'Or' Operation Using '+' sign\n",
    "    mask1 = mask1 + mask2\n",
    "    \n",
    "    #Defining Kernal\n",
    "    kernal = np.ones((3,3),np.uint8)\n",
    "    \n",
    "    #Image Opening and Dilating the Image using cv2 inbuilt \n",
    "    #functions for both masks\n",
    "    mask1 = cv2.morphologyEx(mask1, cv2.MORPH_OPEN, kernal)\n",
    "    mask2 = cv2.morphologyEx(mask1, cv2.MORPH_DILATE, kernal)\n",
    "    \n",
    "    #Now this 'bitwise_not' and 'bitwise_and' operations will\n",
    "    #segment out red colour from the frame\n",
    "    mask2 = cv2.bitwise_not(mask1)\n",
    "    \n",
    "    #Saving the Redpart Only\n",
    "    result_r = cv2.bitwise_and(img , img, mask=mask2)\n",
    "    \n",
    "    #Saving Other Part except Redpart Portion\n",
    "    result_b = cv2.bitwise_and(backgroundimg, backgroundimg, mask=mask1) \n",
    "    \n",
    "    #'addWeighted' is a built in function of OpenCV used to merge\n",
    "    #two images with best fit\n",
    "    \n",
    "    finalOp= cv2.addWeighted(result_r,1,result_b,1,0)\n",
    "    #Writing Our Output to video\n",
    "    vout.write(finalOp)\n",
    "    cv2.imshow('OP_Magical_Cloak',finalOp)\n",
    "    if cv2.waitKey(1) & 0xFF == ord('q'):\n",
    "        break\n",
    "cap.release()\n",
    "vout.release()\n",
    "cv2.destroyAllWindows()\n",
    "print(str(count), 'Frames Captured')"
   ]
  },
  {
   "cell_type": "code",
   "execution_count": null,
   "metadata": {},
   "outputs": [],
   "source": []
  }
 ],
 "metadata": {
  "kernelspec": {
   "display_name": "Python 3",
   "language": "python",
   "name": "python3"
  },
  "language_info": {
   "codemirror_mode": {
    "name": "ipython",
    "version": 3
   },
   "file_extension": ".py",
   "mimetype": "text/x-python",
   "name": "python",
   "nbconvert_exporter": "python",
   "pygments_lexer": "ipython3",
   "version": "3.7.4"
  }
 },
 "nbformat": 4,
 "nbformat_minor": 2
}
